{
  "nbformat": 4,
  "nbformat_minor": 0,
  "metadata": {
    "colab": {
      "provenance": [],
      "authorship_tag": "ABX9TyOTOJ0SpkZyVLieqzqGxgAx",
      "include_colab_link": true
    },
    "kernelspec": {
      "name": "python3",
      "display_name": "Python 3"
    },
    "language_info": {
      "name": "python"
    }
  },
  "cells": [
    {
      "cell_type": "markdown",
      "metadata": {
        "id": "view-in-github",
        "colab_type": "text"
      },
      "source": [
        "<a href=\"https://colab.research.google.com/github/GabeAT7/FormulaSlugOnboardingProjects/blob/main/AUTONOMOUS.ipynb\" target=\"_parent\"><img src=\"https://colab.research.google.com/assets/colab-badge.svg\" alt=\"Open In Colab\"/></a>"
      ]
    },
    {
      "cell_type": "code",
      "execution_count": 4,
      "metadata": {
        "colab": {
          "base_uri": "https://localhost:8080/"
        },
        "id": "wy5vmjqLvexR",
        "outputId": "bbbd89f6-3969-408d-d752-33d070e2a092"
      },
      "outputs": [
        {
          "output_type": "stream",
          "name": "stdout",
          "text": [
            "epoch 10 | loss 0.002035\n",
            "epoch 20 | loss 0.001358\n",
            "epoch 30 | loss 0.000907\n",
            "epoch 40 | loss 0.000606\n",
            "epoch 50 | loss 0.000404\n",
            "inputs:\n",
            " tensor([[ 6.7000,  6.7000],\n",
            "        [ 4.0000,  6.0000],\n",
            "        [10.0000, 12.2000]])\n",
            "Predictions:\n",
            " tensor([13.4194, 10.0195, 22.2192])\n",
            "true sums:\n",
            " tensor([13.4000, 10.0000, 22.2000])\n"
          ]
        }
      ],
      "source": [
        "import torch\n",
        "import torch.nn as nn\n",
        "import torch.optim as optim\n",
        "\n",
        "torch.manual_seed(0)\n",
        "\n",
        "N = 20000\n",
        "\n",
        "a = torch.rand(N)*20 - 10\n",
        "b = torch.rand(N)*20 - 10\n",
        "x = torch.stack([a,b], 1).float()\n",
        "y = (a+b).unsqueeze(1).float()\n",
        "\n",
        "model = nn.Linear(2,1)\n",
        "\n",
        "\n",
        "loss_fn = nn.MSELoss()\n",
        "\n",
        "opt = optim.SGD(model.parameters(), lr = 1e-2)\n",
        "\n",
        "for epoch in range(50):\n",
        "  predict = model(x)\n",
        "  loss = loss_fn(predict, y)\n",
        "  opt.zero_grad(); loss.backward(); opt.step()\n",
        "  if (epoch+1) % 10 == 0:\n",
        "    print(f\"epoch {epoch+1:2d} | loss {loss.item():.6f}\")\n",
        "\n",
        "\n",
        "model.eval()\n",
        "with torch.no_grad():\n",
        "  test = torch.tensor([[6.7,6.7],[4.0,6.0],[10.0,12.2]],dtype=torch.float32)\n",
        "  guess = model(test).squeeze()\n",
        "  print(\"inputs:\\n\",test)\n",
        "  print(\"Predictions:\\n\", guess)\n",
        "  print(\"true sums:\\n\", test[:,0] + test[:,1])"
      ]
    },
    {
      "cell_type": "code",
      "source": [],
      "metadata": {
        "id": "oTV8VfFSzAO6"
      },
      "execution_count": null,
      "outputs": []
    }
  ]
}